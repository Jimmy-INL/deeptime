{
 "cells": [
  {
   "cell_type": "markdown",
   "metadata": {},
   "source": [
    "# Import all the packages used"
   ]
  },
  {
   "cell_type": "code",
   "execution_count": 1,
   "metadata": {
    "scrolled": false
   },
   "outputs": [],
   "source": [
    "import numpy as np\n",
    "import matplotlib.pyplot as plt\n",
    "%matplotlib inline\n",
    "import vampnet\n",
    "from vampnet import data_generator as vamp_data_loader\n",
    "from tensorflow.contrib.keras.api.keras.models import Model\n",
    "from tensorflow.contrib.keras.api.keras.layers import Dense, Activation, Flatten, Input, BatchNormalization, concatenate\n",
    "from tensorflow.contrib.keras.api.keras.optimizers import Adam\n",
    "import tensorflow as tf\n",
    "import matplotlib.gridspec as gridspec\n",
    "from tensorflow.contrib.keras.api.keras.backend import clear_session"
   ]
  },
  {
   "cell_type": "code",
   "execution_count": 2,
   "metadata": {},
   "outputs": [],
   "source": [
    "# Necessary for downloading the trajectory data\n",
    "import mdshare\n",
    "import pyemma.coordinates as pycoor"
   ]
  },
  {
   "cell_type": "markdown",
   "metadata": {},
   "source": [
    "# Define Hyperparameters"
   ]
  },
  {
   "cell_type": "code",
   "execution_count": 39,
   "metadata": {},
   "outputs": [],
   "source": [
    "# Tau, how much is the timeshift of the two datasets\n",
    "tau = 1\n",
    "\n",
    "# Batch size for Stochastic Gradient descent\n",
    "batch_size = 10000\n",
    "\n",
    "# Which trajectory points percentage is used as training\n",
    "train_ratio = 0.9\n",
    "\n",
    "# How many hidden layers the network has\n",
    "network_depth = 6\n",
    "\n",
    "# Width of every layer\n",
    "layer_width = 100\n",
    "\n",
    "# Learning rate used for the ADAM optimizer\n",
    "learning_rate = 1e-4\n",
    "\n",
    "# How many output states the network has\n",
    "output_size = 6\n",
    "\n",
    "# Iteration over the training set in the fitting process\n",
    "nb_epoch = 40\n",
    "\n",
    "epsilon = 1e-5"
   ]
  },
  {
   "cell_type": "markdown",
   "metadata": {},
   "source": [
    "# Initialized the VAMPnets wrapper class"
   ]
  },
  {
   "cell_type": "code",
   "execution_count": 15,
   "metadata": {},
   "outputs": [],
   "source": [
    "vamp = vampnet.VampnetTools(epsilon = epsilon)"
   ]
  },
  {
   "cell_type": "markdown",
   "metadata": {},
   "source": [
    "# Load Data"
   ]
  },
  {
   "cell_type": "code",
   "execution_count": 16,
   "metadata": {},
   "outputs": [],
   "source": [
    "# #Download alanine coordinates and dihedral angles data\n",
    "mdshare.fetch('alanine-dipeptide-3x250ns-heavy-atom-positions.npz')\n",
    "mdshare.fetch('alanine-dipeptide-3x250ns-backbone-dihedrals.npz')\n",
    "\n",
    "alanine_files = np.load('alanine-dipeptide-3x250ns-heavy-atom-positions.npz')\n",
    "\n",
    "# # Save the files separately\n",
    "np.save('traj0.npy', alanine_files['arr_0'])\n",
    "np.save('traj1.npy', alanine_files['arr_1'])\n",
    "np.save('traj2.npy', alanine_files['arr_2'])\n",
    "\n",
    "# Separate data files between training data and validation data\n",
    "\n",
    "train_data_files_list = [\n",
    "    'traj0.npy',\n",
    "    'traj1.npy',\n",
    "]\n",
    "\n",
    "valid_data_files_list = [\n",
    "    'traj2.npy',\n",
    "]\n",
    "\n",
    "total_data_files_list = train_data_files_list + valid_data_files_list"
   ]
  },
  {
   "cell_type": "code",
   "execution_count": 17,
   "metadata": {},
   "outputs": [
    {
     "data": {
      "application/vnd.jupyter.widget-view+json": {
       "model_id": "bd8d7dd85c4d45f6918f8cab4477bb5b",
       "version_major": 2,
       "version_minor": 0
      },
      "text/plain": [
       "HBox(children=(HBox(children=(Label(value='Obtaining file info'),), layout=Layout(max_width='35%', min_width='…"
      ]
     },
     "metadata": {},
     "output_type": "display_data"
    },
    {
     "name": "stdout",
     "output_type": "stream",
     "text": []
    }
   ],
   "source": [
    "# Define the pyemma data sources and get basic info from the files, number of datapoints and system size\n",
    "\n",
    "train_data_source = pycoor.source(train_data_files_list,chunksize = batch_size)\n",
    "valid_data_source = pycoor.source(valid_data_files_list,chunksize = batch_size)\n",
    "total_data_source = pycoor.source(total_data_files_list,chunksize = batch_size)\n",
    "\n",
    "train_datapoints = train_data_source.n_frames_total()\n",
    "valid_datapoints = valid_data_source.n_frames_total()\n",
    "total_datapoints = total_data_source.n_frames_total()\n",
    "                           \n",
    "traj_lengths = total_data_source.trajectory_lengths()\n",
    "\n",
    "input_size = total_data_source.dimension()"
   ]
  },
  {
   "cell_type": "markdown",
   "metadata": {},
   "source": [
    "# Run several model iterations saving the best one, to help finding sparcely populated states"
   ]
  },
  {
   "cell_type": "code",
   "execution_count": 34,
   "metadata": {},
   "outputs": [],
   "source": [
    "import datetime"
   ]
  },
  {
   "cell_type": "code",
   "execution_count": 40,
   "metadata": {
    "scrolled": true
   },
   "outputs": [
    {
     "name": "stdout",
     "output_type": "stream",
     "text": [
      "39\n",
      "33\n",
      "Attempt 1, training score: 4.10, validation score: 4.09 - Highest\n"
     ]
    },
    {
     "ename": "KeyboardInterrupt",
     "evalue": "",
     "output_type": "error",
     "traceback": [
      "\u001b[0;31m---------------------------------------------------------------------------\u001b[0m",
      "\u001b[0;31mKeyboardInterrupt\u001b[0m                         Traceback (most recent call last)",
      "\u001b[0;32m<ipython-input-40-301740ef3334>\u001b[0m in \u001b[0;36m<module>\u001b[0;34m()\u001b[0m\n\u001b[1;32m     95\u001b[0m                                                                                                 ),\n\u001b[1;32m     96\u001b[0m                                    \u001b[0mvalidation_steps\u001b[0m \u001b[0;34m=\u001b[0m \u001b[0msteps_per_valid_epoch\u001b[0m\u001b[0;34m,\u001b[0m\u001b[0;34m\u001b[0m\u001b[0;34m\u001b[0m\u001b[0m\n\u001b[0;32m---> 97\u001b[0;31m                                    \u001b[0mshuffle\u001b[0m \u001b[0;34m=\u001b[0m \u001b[0;32mTrue\u001b[0m\u001b[0;34m\u001b[0m\u001b[0;34m\u001b[0m\u001b[0m\n\u001b[0m\u001b[1;32m     98\u001b[0m                                   )\n\u001b[1;32m     99\u001b[0m         \u001b[0mend\u001b[0m \u001b[0;34m=\u001b[0m \u001b[0mdatetime\u001b[0m\u001b[0;34m.\u001b[0m\u001b[0mdatetime\u001b[0m\u001b[0;34m.\u001b[0m\u001b[0mnow\u001b[0m\u001b[0;34m(\u001b[0m\u001b[0;34m)\u001b[0m\u001b[0;34m\u001b[0m\u001b[0;34m\u001b[0m\u001b[0m\n",
      "\u001b[0;32m/storage/mi/pasquali/miniconda3_remote/envs/tf/lib/python3.6/site-packages/tensorflow/python/keras/engine/training.py\u001b[0m in \u001b[0;36mfit_generator\u001b[0;34m(self, generator, steps_per_epoch, epochs, verbose, callbacks, validation_data, validation_steps, class_weight, max_queue_size, workers, use_multiprocessing, shuffle, initial_epoch)\u001b[0m\n\u001b[1;32m   2175\u001b[0m         \u001b[0muse_multiprocessing\u001b[0m\u001b[0;34m=\u001b[0m\u001b[0muse_multiprocessing\u001b[0m\u001b[0;34m,\u001b[0m\u001b[0;34m\u001b[0m\u001b[0;34m\u001b[0m\u001b[0m\n\u001b[1;32m   2176\u001b[0m         \u001b[0mshuffle\u001b[0m\u001b[0;34m=\u001b[0m\u001b[0mshuffle\u001b[0m\u001b[0;34m,\u001b[0m\u001b[0;34m\u001b[0m\u001b[0;34m\u001b[0m\u001b[0m\n\u001b[0;32m-> 2177\u001b[0;31m         initial_epoch=initial_epoch)\n\u001b[0m\u001b[1;32m   2178\u001b[0m \u001b[0;34m\u001b[0m\u001b[0m\n\u001b[1;32m   2179\u001b[0m   def evaluate_generator(self,\n",
      "\u001b[0;32m/storage/mi/pasquali/miniconda3_remote/envs/tf/lib/python3.6/site-packages/tensorflow/python/keras/engine/training_generator.py\u001b[0m in \u001b[0;36mfit_generator\u001b[0;34m(model, generator, steps_per_epoch, epochs, verbose, callbacks, validation_data, validation_steps, class_weight, max_queue_size, workers, use_multiprocessing, shuffle, initial_epoch)\u001b[0m\n\u001b[1;32m    174\u001b[0m \u001b[0;34m\u001b[0m\u001b[0m\n\u001b[1;32m    175\u001b[0m         outs = model.train_on_batch(\n\u001b[0;32m--> 176\u001b[0;31m             x, y, sample_weight=sample_weight, class_weight=class_weight)\n\u001b[0m\u001b[1;32m    177\u001b[0m \u001b[0;34m\u001b[0m\u001b[0m\n\u001b[1;32m    178\u001b[0m         \u001b[0;32mif\u001b[0m \u001b[0;32mnot\u001b[0m \u001b[0misinstance\u001b[0m\u001b[0;34m(\u001b[0m\u001b[0mouts\u001b[0m\u001b[0;34m,\u001b[0m \u001b[0mlist\u001b[0m\u001b[0;34m)\u001b[0m\u001b[0;34m:\u001b[0m\u001b[0;34m\u001b[0m\u001b[0;34m\u001b[0m\u001b[0m\n",
      "\u001b[0;32m/storage/mi/pasquali/miniconda3_remote/envs/tf/lib/python3.6/site-packages/tensorflow/python/keras/engine/training.py\u001b[0m in \u001b[0;36mtrain_on_batch\u001b[0;34m(self, x, y, sample_weight, class_weight)\u001b[0m\n\u001b[1;32m   1938\u001b[0m \u001b[0;34m\u001b[0m\u001b[0m\n\u001b[1;32m   1939\u001b[0m       \u001b[0mself\u001b[0m\u001b[0;34m.\u001b[0m\u001b[0m_make_train_function\u001b[0m\u001b[0;34m(\u001b[0m\u001b[0;34m)\u001b[0m\u001b[0;34m\u001b[0m\u001b[0;34m\u001b[0m\u001b[0m\n\u001b[0;32m-> 1940\u001b[0;31m       \u001b[0moutputs\u001b[0m \u001b[0;34m=\u001b[0m \u001b[0mself\u001b[0m\u001b[0;34m.\u001b[0m\u001b[0mtrain_function\u001b[0m\u001b[0;34m(\u001b[0m\u001b[0mins\u001b[0m\u001b[0;34m)\u001b[0m\u001b[0;34m\u001b[0m\u001b[0;34m\u001b[0m\u001b[0m\n\u001b[0m\u001b[1;32m   1941\u001b[0m \u001b[0;34m\u001b[0m\u001b[0m\n\u001b[1;32m   1942\u001b[0m     \u001b[0;32mif\u001b[0m \u001b[0mlen\u001b[0m\u001b[0;34m(\u001b[0m\u001b[0moutputs\u001b[0m\u001b[0;34m)\u001b[0m \u001b[0;34m==\u001b[0m \u001b[0;36m1\u001b[0m\u001b[0;34m:\u001b[0m\u001b[0;34m\u001b[0m\u001b[0;34m\u001b[0m\u001b[0m\n",
      "\u001b[0;32m/storage/mi/pasquali/miniconda3_remote/envs/tf/lib/python3.6/site-packages/tensorflow/python/keras/backend.py\u001b[0m in \u001b[0;36m__call__\u001b[0;34m(self, inputs)\u001b[0m\n\u001b[1;32m   2969\u001b[0m         \u001b[0mtensor_type\u001b[0m \u001b[0;34m=\u001b[0m \u001b[0mdtypes_module\u001b[0m\u001b[0;34m.\u001b[0m\u001b[0mas_dtype\u001b[0m\u001b[0;34m(\u001b[0m\u001b[0mtensor\u001b[0m\u001b[0;34m.\u001b[0m\u001b[0mdtype\u001b[0m\u001b[0;34m)\u001b[0m\u001b[0;34m\u001b[0m\u001b[0;34m\u001b[0m\u001b[0m\n\u001b[1;32m   2970\u001b[0m         array_vals.append(np.asarray(value,\n\u001b[0;32m-> 2971\u001b[0;31m                                      dtype=tensor_type.as_numpy_dtype))\n\u001b[0m\u001b[1;32m   2972\u001b[0m \u001b[0;34m\u001b[0m\u001b[0m\n\u001b[1;32m   2973\u001b[0m     \u001b[0;32mif\u001b[0m \u001b[0mself\u001b[0m\u001b[0;34m.\u001b[0m\u001b[0mfeed_dict\u001b[0m\u001b[0;34m:\u001b[0m\u001b[0;34m\u001b[0m\u001b[0;34m\u001b[0m\u001b[0m\n",
      "\u001b[0;32m/storage/mi/pasquali/miniconda3_remote/envs/tf/lib/python3.6/site-packages/numpy/core/numeric.py\u001b[0m in \u001b[0;36masarray\u001b[0;34m(a, dtype, order)\u001b[0m\n\u001b[1;32m    499\u001b[0m \u001b[0;34m\u001b[0m\u001b[0m\n\u001b[1;32m    500\u001b[0m     \"\"\"\n\u001b[0;32m--> 501\u001b[0;31m     \u001b[0;32mreturn\u001b[0m \u001b[0marray\u001b[0m\u001b[0;34m(\u001b[0m\u001b[0ma\u001b[0m\u001b[0;34m,\u001b[0m \u001b[0mdtype\u001b[0m\u001b[0;34m,\u001b[0m \u001b[0mcopy\u001b[0m\u001b[0;34m=\u001b[0m\u001b[0;32mFalse\u001b[0m\u001b[0;34m,\u001b[0m \u001b[0morder\u001b[0m\u001b[0;34m=\u001b[0m\u001b[0morder\u001b[0m\u001b[0;34m)\u001b[0m\u001b[0;34m\u001b[0m\u001b[0;34m\u001b[0m\u001b[0m\n\u001b[0m\u001b[1;32m    502\u001b[0m \u001b[0;34m\u001b[0m\u001b[0m\n\u001b[1;32m    503\u001b[0m \u001b[0;34m\u001b[0m\u001b[0m\n",
      "\u001b[0;31mKeyboardInterrupt\u001b[0m: "
     ]
    }
   ],
   "source": [
    "max_vm = 0\n",
    "attempts_number = 10\n",
    "\n",
    "\n",
    "# IMPORTANT: the function vamp.loss_VAMP2_autograd can only be used with tensorflow 1.6 or more recent.\n",
    "# For older versions of TF, use the function vamp.loss_VAMP2\n",
    "\n",
    "losses = [\n",
    "          vamp.loss_VAMP2_autograd,\n",
    "]\n",
    "\n",
    "\n",
    "for attempt in range(attempts_number):\n",
    "    \n",
    "\n",
    "    # Clear the previous tensorflow session to prevent memory leaks\n",
    "    clear_session()\n",
    "\n",
    "    # Build the model\n",
    "\n",
    "\n",
    "    nodes = [layer_width]*network_depth\n",
    "\n",
    "    Data_X = Input(shape = (input_size,))\n",
    "    Data_Y = Input(shape = (input_size,))\n",
    "\n",
    "    # A batch normalization layer improves convergence speed\n",
    "    bn_layer = BatchNormalization()\n",
    "\n",
    "    # Instance layers and assign them to the two lobes of the network\n",
    "    dense_layers = [Dense(node, activation = 'elu',)\n",
    "                    for node in nodes]\n",
    "\n",
    "    lx_branch = bn_layer(Data_X)\n",
    "    rx_branch = bn_layer(Data_Y)\n",
    "\n",
    "    for i, layer in enumerate(dense_layers):\n",
    "\n",
    "        lx_branch = dense_layers[i](lx_branch)\n",
    "        rx_branch = dense_layers[i](rx_branch)\n",
    "\n",
    "\n",
    "    # Add a softmax output layer.\n",
    "    # Should be replaced with a linear activation layer if\n",
    "    # the outputs of the network cannot be interpreted as states\n",
    "    softmax = Dense(output_size, activation='softmax')\n",
    "\n",
    "    lx_branch = softmax(lx_branch)\n",
    "    rx_branch = softmax(rx_branch)\n",
    "\n",
    "    # Merge both networks to train both at the same time\n",
    "    merged = concatenate([lx_branch, rx_branch])\n",
    "\n",
    "    # Initialize the model and the optimizer, and compile it with\n",
    "    # the loss and metric functions from the VAMPnets package\n",
    "    model = Model(inputs = [Data_X, Data_Y], outputs = merged)\n",
    "    adam = Adam(lr = learning_rate)\n",
    "\n",
    "    vm1 = np.zeros((len(losses), nb_epoch))\n",
    "    tm1 = np.zeros_like(vm1)\n",
    "    vm2 = np.zeros_like(vm1)\n",
    "    tm2 = np.zeros_like(vm1)\n",
    "    \n",
    "    for l_index, loss_function in enumerate(losses):\n",
    "\n",
    "        \n",
    "        model.compile(optimizer = adam,\n",
    "                      loss = loss_function,\n",
    "                      metrics = [\n",
    "                          vamp.metric_VAMP,\n",
    "                          vamp.metric_VAMP2,\n",
    "                                 ])\n",
    "\n",
    "\n",
    "        # Train the model\n",
    "        \n",
    "        steps_per_train_epoch = int(np.sum(np.ceil((train_data_source.trajectory_lengths()-tau)/batch_size)))\n",
    "        steps_per_valid_epoch = int(np.sum(np.ceil((valid_data_source.trajectory_lengths()-tau)/batch_size)))\n",
    "        \n",
    "        start = datetime.datetime.now()\n",
    "        hist = model.fit_generator(generator = vamp_data_loader.build_generator_on_source_shuffle(train_data_source,\n",
    "                                                                                                  batch_size,\n",
    "                                                                                                  tau,\n",
    "                                                                                                  output_size,\n",
    "                                                                                                  10\n",
    "                                                                                                ),\n",
    "                                   steps_per_epoch = steps_per_train_epoch,\n",
    "                                   epochs = nb_epoch,\n",
    "                                   verbose = 0,\n",
    "                                   validation_data = vamp_data_loader.build_generator_on_source_shuffle(valid_data_source,\n",
    "                                                                                                  batch_size,\n",
    "                                                                                                  tau,\n",
    "                                                                                                  output_size,\n",
    "                                                                                                  10\n",
    "                                                                                                ),\n",
    "                                   validation_steps = steps_per_valid_epoch,\n",
    "                                   shuffle = True\n",
    "                                  )\n",
    "        end = datetime.datetime.now()\n",
    "        print((end - start).seconds)\n",
    "        \n",
    "        start = datetime.datetime.now()\n",
    "        hist = model.fit_generator(generator = vamp_data_loader.build_generator_on_source_shuffle(train_data_source,\n",
    "                                                                                                  batch_size,\n",
    "                                                                                                  tau,\n",
    "                                                                                                  output_size,\n",
    "                                                                                                  1\n",
    "                                                                                                ),\n",
    "                                   steps_per_epoch = steps_per_train_epoch,\n",
    "                                   epochs = nb_epoch,\n",
    "                                   verbose = 0,\n",
    "                                   validation_data = vamp_data_loader.build_generator_on_source_shuffle(valid_data_source,\n",
    "                                                                                                  batch_size,\n",
    "                                                                                                  tau,\n",
    "                                                                                                  output_size,\n",
    "                                                                                                  1\n",
    "                                                                                                ),\n",
    "                                   validation_steps = steps_per_valid_epoch,\n",
    "                                   shuffle = True\n",
    "                                  )\n",
    "        end = datetime.datetime.now()\n",
    "        print((end - start).seconds)\n",
    "\n",
    "        vm1[l_index] = np.array(hist.history['val_metric_VAMP'])\n",
    "        tm1[l_index] = np.array(hist.history['metric_VAMP'])\n",
    "        \n",
    "        vm2[l_index] = np.array(hist.history['val_metric_VAMP2'])\n",
    "        tm2[l_index] = np.array(hist.history['metric_VAMP2'])\n",
    "        \n",
    "    \n",
    "    vm1 = np.reshape(vm1, (-1))\n",
    "    tm1 = np.reshape(tm1, (-1))\n",
    "    vm2 = np.reshape(vm2, (-1))\n",
    "    tm2 = np.reshape(tm2, (-1))\n",
    "\n",
    "    # Average the score obtained in the last part of the training process\n",
    "    # in order to estabilish which model is better and thus worth saving\n",
    "\n",
    "\n",
    "    score = vm1[-5:].mean()\n",
    "    t_score = tm1[-5:].mean()\n",
    "    extra_msg = ''\n",
    "    if score > max_vm:\n",
    "        extra_msg = ' - Highest'\n",
    "        best_weights = model.get_weights()\n",
    "        max_vm = score\n",
    "        vm1_max = vm1\n",
    "        tm1_max = tm1\n",
    "        vm2_max = vm2\n",
    "        tm2_max = tm2\n",
    "        \n",
    "    print('Attempt {0}, training score: {1:.2f}, validation score: {2:.2f}'.format(attempt+1, t_score, score) + extra_msg)"
   ]
  },
  {
   "cell_type": "markdown",
   "metadata": {},
   "source": [
    "# Recover the saved model and its training history"
   ]
  },
  {
   "cell_type": "code",
   "execution_count": 19,
   "metadata": {},
   "outputs": [],
   "source": [
    "model.set_weights(best_weights)\n",
    "\n",
    "tm1 = np.array(vm1_max)\n",
    "tm2 = np.array(tm1_max)\n",
    "vm1 = np.array(vm2_max)\n",
    "vm2 = np.array(tm2_max)"
   ]
  },
  {
   "cell_type": "markdown",
   "metadata": {},
   "source": [
    "# Training result visualization"
   ]
  },
  {
   "cell_type": "code",
   "execution_count": 20,
   "metadata": {
    "scrolled": false
   },
   "outputs": [
    {
     "data": {
      "image/png": "[encoded data removed]",
      "text/plain": [
       "<Figure size 432x288 with 1 Axes>"
      ]
     },
     "metadata": {
      "needs_background": "light"
     },
     "output_type": "display_data"
    }
   ],
   "source": [
    "plt.plot(vm1, label = 'VAMP')\n",
    "plt.plot(vm2, label = 'VAMP2')\n",
    "plt.plot(tm1, label = 'training VAMP')\n",
    "plt.plot(tm2, label = 'training VAMP2')\n",
    "plt.legend()\n",
    "plt.show()"
   ]
  },
  {
   "cell_type": "code",
   "execution_count": 21,
   "metadata": {},
   "outputs": [],
   "source": [
    "# Transform the input trajectory using the network\n",
    "states_prob_all = model.predict_generator(generator = vamp_data_loader.build_generator_on_source(total_data_source,\n",
    "                                                              batch_size,\n",
    "                                                              tau,\n",
    "                                                              output_size),\n",
    "                                     steps = np.sum(np.ceil((total_data_source.trajectory_lengths()-tau)/batch_size)),\n",
    "                                     verbose = 0)\n",
    "\n",
    "states_prob_t = states_prob_all[:,:output_size]\n",
    "states_prob_lag = states_prob_all[:,output_size:]\n",
    "\n",
    "# reorganize the output of the network in order to have every data point transformed by the network in one array\n",
    "start = 0\n",
    "states_prob = np.zeros((states_prob_t.shape[0]+len(traj_lengths)*tau, output_size))\n",
    "for l, length_i in enumerate(traj_lengths-tau):\n",
    "    states_prob[start+l*tau:start+l*tau+length_i] = states_prob_t[start:start+length_i]\n",
    "    states_prob[start+l*tau+length_i:start+l*tau+length_i+tau] = states_prob_lag[start+length_i-tau:start+length_i]\n",
    "    start += length_i\n",
    "\n",
    "# Order the output states based on their population\n",
    "coor_pred = np.argmax(states_prob, axis = 1)\n",
    "indexes = [np.where(coor_pred == np.multiply(np.ones_like(coor_pred), n)) for n in range(output_size)]\n",
    "states_num = [len(i[0]) for i in indexes]\n",
    "states_order = np.argsort(states_num).astype('int')[::-1]\n",
    "\n",
    "pred_ord = states_prob[:,states_order]"
   ]
  },
  {
   "cell_type": "markdown",
   "metadata": {},
   "source": [
    "# Visualize the population of the states"
   ]
  },
  {
   "cell_type": "code",
   "execution_count": 22,
   "metadata": {},
   "outputs": [
    {
     "name": "stdout",
     "output_type": "stream",
     "text": [
      "States population: [40.5888     23.86213333 20.9892     11.5748      2.83813333  0.14693333]%\n"
     ]
    },
    {
     "data": {
      "image/png": "[encoded data removed]",
      "text/plain": [
       "<Figure size 432x288 with 1 Axes>"
      ]
     },
     "metadata": {},
     "output_type": "display_data"
    }
   ],
   "source": [
    "def print_states_pie_chart():\n",
    "    coors = []\n",
    "    maxi = np.max(pred_ord, axis= 1)\n",
    "\n",
    "    for i in range(output_size):\n",
    "        coors.append(len(np.where(pred_ord[:,i] == maxi)[0]))\n",
    "        \n",
    "    fig1, ax1 = plt.subplots()\n",
    "    ax1.pie(np.array(coors), autopct='%1.2f%%', startangle=90)\n",
    "    ax1.axis('equal')  # Equal aspect ratio ensures that pie is drawn as a circle.\n",
    "    print('States population: '+str(np.array(coors)/len(maxi)*100)+'%')\n",
    "    plt.show()\n",
    "\n",
    "print_states_pie_chart()"
   ]
  },
  {
   "cell_type": "markdown",
   "metadata": {},
   "source": [
    "# Visualize how the 4 states are placed on the Ramachandran plot"
   ]
  },
  {
   "cell_type": "code",
   "execution_count": 23,
   "metadata": {},
   "outputs": [],
   "source": [
    "dihedral_file = np.load('alanine-dipeptide-3x250ns-backbone-dihedrals.npz')\n",
    "dihedral_init = np.concatenate([dihedral_file['arr_0'],\n",
    "                                dihedral_file['arr_1'],\n",
    "                                dihedral_file['arr_2'],\n",
    "                               ], axis = 0)\n"
   ]
  },
  {
   "cell_type": "code",
   "execution_count": 24,
   "metadata": {
    "scrolled": false
   },
   "outputs": [
    {
     "data": {
      "image/png": "[encoded data removed]",
      "text/plain": [
       "<Figure size 432x288 with 1 Axes>"
      ]
     },
     "metadata": {
      "needs_background": "light"
     },
     "output_type": "display_data"
    }
   ],
   "source": [
    "maxi_train = np.max(pred_ord, axis= 1)\n",
    "coor_train = np.zeros_like(pred_ord)\n",
    "for i in range(output_size):\n",
    "    coor_train = np.where(pred_ord[:,i]== maxi_train)[0]\n",
    "    plt.scatter(dihedral_init[coor_train,0], dihedral_init[coor_train,1], s=1)\n",
    "plt.axes = [[-np.pi, np.pi],[-np.pi, np.pi]]"
   ]
  },
  {
   "cell_type": "markdown",
   "metadata": {},
   "source": [
    "# For each state, visualize the probabilities the different trajectory points have to belong to it"
   ]
  },
  {
   "cell_type": "code",
   "execution_count": null,
   "metadata": {
    "scrolled": false
   },
   "outputs": [],
   "source": [
    "fig = plt.figure(figsize=(16, 16))\n",
    "\n",
    "gs1 = gridspec.GridSpec(int(np.ceil(output_size/2)), 2)\n",
    "gs1.update(wspace=0.05, hspace = 0.05)\n",
    "\n",
    "for n in range(output_size):\n",
    "    ax = plt.subplot(gs1[n])\n",
    "    im = ax.scatter(dihedral_init[:,0], dihedral_init[:,1], s=5,\n",
    "                    c = pred_ord[:,n],\n",
    "                    alpha=0.5, edgecolor='', vmin = 0, vmax = 1)\n",
    "    plt.axis('on')\n",
    "    title = 'State '+str(n + 1)\n",
    "\n",
    "    ax.text(.85, .15, title,\n",
    "        horizontalalignment='center',\n",
    "        transform=ax.transAxes,  fontdict = {'size':36})\n",
    "\n",
    "\n",
    "    if (n < 3):\n",
    "        ax.set_xticks([-3, 0, 3])\n",
    "        ax.set_xticklabels([r'-$\\pi$', r'$0$', r'$\\pi$'])\n",
    "        ax.xaxis.set_tick_params(top=True, bottom=False, labeltop=True, labelbottom=False)\n",
    "        ax.xaxis.set_tick_params(labelsize=40)\n",
    "    else:\n",
    "        ax.set_xticks([])\n",
    "    if (n%3==0):\n",
    "        ax.set_yticks([-3, 0, 3])\n",
    "        ax.set_yticklabels([r'-$\\pi$', r'$0$', r'$\\pi$'])\n",
    "        ax.yaxis.set_tick_params(labelsize=40)\n",
    "    else:\n",
    "        ax.set_yticks([])\n",
    "#    ax.set_aspect('equal')\n",
    "    ax.set_xlim([-np.pi, np.pi]);\n",
    "    ax.set_ylim([-np.pi, np.pi]);\n",
    "    \n",
    "    if (n%3 == 0):\n",
    "        ax.set_ylabel(r'$\\Psi$ [rad]', fontdict = {'size':40})\n",
    "    if (n < 3):\n",
    "        ax.set_xlabel(r'$\\Phi$ [rad]', fontdict = {'size':40}, position = 'top')\n",
    "        ax.xaxis.set_label_coords(0.5,1.2)\n",
    "\n",
    "gs1.tight_layout(fig, rect=[0, 0.03, 0.95, 0.94])\n",
    "fig.show()\n",
    "\n",
    "cax = fig.add_axes([0.95, 0.05, 0.02, 0.8])\n",
    "cbar = fig.colorbar(im, cax=cax, ticks=[0, 1])\n",
    "cbar.ax.yaxis.set_tick_params(labelsize=40)"
   ]
  },
  {
   "cell_type": "markdown",
   "metadata": {},
   "source": [
    "# Markov Model Estimation"
   ]
  },
  {
   "cell_type": "markdown",
   "metadata": {},
   "source": [
    "## Prepare multiple trajectories  "
   ]
  },
  {
   "cell_type": "code",
   "execution_count": null,
   "metadata": {},
   "outputs": [],
   "source": [
    "# separate the trajectories again as a list based on the length of them\n",
    "traj_list = []\n",
    "start = 0\n",
    "for length_i in traj_lengths:\n",
    "    traj_list.append(pred_ord[start:start+length_i])\n",
    "    start += length_i"
   ]
  },
  {
   "cell_type": "markdown",
   "metadata": {},
   "source": [
    "# Estimate the implied timescales"
   ]
  },
  {
   "cell_type": "code",
   "execution_count": null,
   "metadata": {
    "scrolled": false
   },
   "outputs": [],
   "source": [
    "max_tau = 200\n",
    "lag = np.arange(1, max_tau, 1)\n",
    "its = vamp.get_its(traj_list, lag)\n",
    "vamp.plot_its(its, lag)"
   ]
  },
  {
   "cell_type": "markdown",
   "metadata": {},
   "source": [
    "# Chapman-Kolmogorov test for the estimated koopman operator"
   ]
  },
  {
   "cell_type": "code",
   "execution_count": null,
   "metadata": {},
   "outputs": [],
   "source": [
    "steps = 8\n",
    "tau_msm = 35\n",
    "predicted, estimated = vamp.get_ck_test(traj_list, steps, tau_msm)\n",
    "vamp.plot_ck_test(predicted, estimated, output_size, steps, tau_msm)"
   ]
  },
  {
   "cell_type": "code",
   "execution_count": null,
   "metadata": {},
   "outputs": [],
   "source": []
  }
 ],
 "metadata": {
  "anaconda-cloud": {},
  "kernelspec": {
   "display_name": "Python 3",
   "language": "python",
   "name": "python3"
  },
  "language_info": {
   "codemirror_mode": {
    "name": "ipython",
    "version": 3
   },
   "file_extension": ".py",
   "mimetype": "text/x-python",
   "name": "python",
   "nbconvert_exporter": "python",
   "pygments_lexer": "ipython3",
   "version": "3.6.8"
  },
  "varInspector": {
   "cols": {
    "lenName": 16,
    "lenType": 16,
    "lenVar": 40
   },
   "kernels_config": {
    "python": {
     "delete_cmd_postfix": "",
     "delete_cmd_prefix": "del ",
     "library": "var_list.py",
     "varRefreshCmd": "print(var_dic_list())"
    },
    "r": {
     "delete_cmd_postfix": ") ",
     "delete_cmd_prefix": "rm(",
     "library": "var_list.r",
     "varRefreshCmd": "cat(var_dic_list()) "
    }
   },
   "types_to_exclude": [
    "module",
    "function",
    "builtin_function_or_method",
    "instance",
    "_Feature"
   ],
   "window_display": false
  }
 },
 "nbformat": 4,
 "nbformat_minor": 2
}
